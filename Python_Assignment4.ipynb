{
 "cells": [
  {
   "cell_type": "markdown",
   "id": "5640f77a-7d50-4569-a406-67457b66c41a",
   "metadata": {},
   "source": [
    "Q1. What is the syntax for adding an element to a list in Python?\n",
    "Q2. What is the difference between remove() and pop() functions in Python?\n",
    "Q3. Write a Python code to sort a list in descending order.\n",
    "Q4. Write a Python code to count the number of occurrences of an element in a list.\n",
    "Q5. Write a Python code to reverse a list."
   ]
  },
  {
   "cell_type": "markdown",
   "id": "205ae714-c88e-4ae4-bf8f-37ad0988f27f",
   "metadata": {},
   "source": [
    "Q1. What is the syntax for adding an element to a list in Python?\n"
   ]
  },
  {
   "cell_type": "code",
   "execution_count": 1,
   "id": "7fc1f17d-2cac-470d-8de3-2d68c967d78d",
   "metadata": {},
   "outputs": [
    {
     "name": "stdout",
     "output_type": "stream",
     "text": [
      "['apple', 'banana', 'cherry']\n"
     ]
    }
   ],
   "source": [
    "fruits = [\"apple\", \"banana\"]\n",
    "fruits.append(\"cherry\")\n",
    "print(fruits)  # Output: [\"apple\", \"banana\", \"cherry\"]"
   ]
  },
  {
   "cell_type": "code",
   "execution_count": 2,
   "id": "a4d8f42d-b415-4b5d-b670-e640cbc70528",
   "metadata": {},
   "outputs": [
    {
     "name": "stdout",
     "output_type": "stream",
     "text": [
      "['apple', 'orange', 'banana']\n"
     ]
    }
   ],
   "source": [
    "fruits = [\"apple\", \"banana\"]\n",
    "fruits.insert(1, \"orange\")\n",
    "print(fruits)  # Output: [\"apple\", \"orange\", \"banana\"]"
   ]
  },
  {
   "cell_type": "markdown",
   "id": "ac640859-72c5-445f-9136-cc64029b2f5c",
   "metadata": {},
   "source": [
    "Q2. What is the difference between remove() and pop() functions in Python?"
   ]
  },
  {
   "cell_type": "raw",
   "id": "78d7fa8d-64c3-4930-aeb2-a94d1228f9a8",
   "metadata": {},
   "source": [
    "Use remove() when you want to remove the first occurrence of an element by its value.\n",
    "Use pop() when you need to remove an element at a specific index (or the last element) and want to retrieve its value."
   ]
  },
  {
   "cell_type": "markdown",
   "id": "d8c24bb2-b672-4e55-88a8-a4f255295bac",
   "metadata": {},
   "source": [
    "Q3. Write a Python code to sort a list in descending order."
   ]
  },
  {
   "cell_type": "code",
   "execution_count": 3,
   "id": "27faa3d9-1bbd-4254-8072-74d5e955c636",
   "metadata": {},
   "outputs": [
    {
     "name": "stdout",
     "output_type": "stream",
     "text": [
      "[9, 8, 5, 2, 1]\n"
     ]
    }
   ],
   "source": [
    "# Create a list\n",
    "my_list = [5, 2, 8, 1, 9]\n",
    "\n",
    "# Sort the list in descending order using the sort() method with the reverse argument set to True\n",
    "my_list.sort(reverse=True)\n",
    "\n",
    "# Print the sorted list\n",
    "print(my_list)  # Output: [9, 8, 5, 2, 1]"
   ]
  },
  {
   "cell_type": "markdown",
   "id": "6d96a4c7-35ee-4e4b-95ab-63737b44aec8",
   "metadata": {},
   "source": [
    "Q4. Write a Python code to count the number of occurrences of an element in a list.\n"
   ]
  },
  {
   "cell_type": "code",
   "execution_count": 4,
   "id": "740aeb79-79e7-4730-8b38-ef36934887ce",
   "metadata": {},
   "outputs": [
    {
     "name": "stdout",
     "output_type": "stream",
     "text": [
      "The element 1 occurs 3 times in the list.\n"
     ]
    }
   ],
   "source": [
    "# Create a list\n",
    "my_list = [1, 2, 3, 1, 2, 4, 1]\n",
    "\n",
    "# Element to count occurrences of\n",
    "element_to_count = 1\n",
    "\n",
    "# Count occurrences using the count() method\n",
    "count = my_list.count(element_to_count)\n",
    "\n",
    "print(f\"The element {element_to_count} occurs {count} times in the list.\")"
   ]
  },
  {
   "cell_type": "markdown",
   "id": "c7799fa6-c265-450c-963b-1c0d79363426",
   "metadata": {},
   "source": [
    "Q5. Write a Python code to reverse a list."
   ]
  },
  {
   "cell_type": "code",
   "execution_count": 5,
   "id": "69f2f2e4-2370-44cb-bb20-f74d28021603",
   "metadata": {},
   "outputs": [
    {
     "name": "stdout",
     "output_type": "stream",
     "text": [
      "[5, 4, 3, 2, 1]\n"
     ]
    }
   ],
   "source": [
    "# Create a list\n",
    "my_list = [1, 2, 3, 4, 5]\n",
    "\n",
    "# Reverse the list using the reverse() method (modifies the list)\n",
    "my_list.reverse()\n",
    "\n",
    "print(my_list)  # Output: [5, 4, 3, 2, 1] (original list is now reversed)"
   ]
  },
  {
   "cell_type": "code",
   "execution_count": 6,
   "id": "60aa5ce2-07d4-4e36-af5d-ede4a8d2bd74",
   "metadata": {},
   "outputs": [
    {
     "name": "stdout",
     "output_type": "stream",
     "text": [
      "[1, 2, 3, 4, 5]\n",
      "[5, 4, 3, 2, 1]\n"
     ]
    }
   ],
   "source": [
    "# Create a list\n",
    "my_list = [1, 2, 3, 4, 5]\n",
    "\n",
    "# Reverse the list using slicing\n",
    "reversed_list = my_list[::-1]\n",
    "\n",
    "print(my_list)  # Output: [1, 2, 3, 4, 5] (original list remains unchanged)\n",
    "print(reversed_list)  # Output: [5, 4, 3, 2, 1] (reversed list)"
   ]
  },
  {
   "cell_type": "code",
   "execution_count": null,
   "id": "8ed1fa95-8baf-4746-894d-923a95ed7a6d",
   "metadata": {},
   "outputs": [],
   "source": []
  }
 ],
 "metadata": {
  "kernelspec": {
   "display_name": "Python 3 (ipykernel)",
   "language": "python",
   "name": "python3"
  },
  "language_info": {
   "codemirror_mode": {
    "name": "ipython",
    "version": 3
   },
   "file_extension": ".py",
   "mimetype": "text/x-python",
   "name": "python",
   "nbconvert_exporter": "python",
   "pygments_lexer": "ipython3",
   "version": "3.10.8"
  }
 },
 "nbformat": 4,
 "nbformat_minor": 5
}
